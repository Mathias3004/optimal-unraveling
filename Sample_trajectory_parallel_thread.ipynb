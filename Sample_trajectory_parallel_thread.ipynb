{
 "cells": [
  {
   "cell_type": "code",
   "execution_count": null,
   "id": "965aa68f",
   "metadata": {},
   "outputs": [],
   "source": [
    "using ITensors\n",
    "using Plots\n",
    "using Distributed\n",
    "using Statistics\n",
    "addprocs(128);\n",
    "\n",
    "#include(\"TrajectorySampler/src/TrajectorySampler.jl\")\n",
    "#using TrajectorySampler\n",
    "#using TEDdata\n",
    "#import TEData\n",
    "#include(\"TE_data.jl\")\n",
    "#include(\"functions.jl\")\n",
    "#include(\"TrajectorySampler.jl\")"
   ]
  },
  {
   "cell_type": "code",
   "execution_count": null,
   "id": "c902a88f",
   "metadata": {},
   "outputs": [],
   "source": [
    "Threads.nthreads()"
   ]
  },
  {
   "cell_type": "code",
   "execution_count": 5,
   "id": "d7d3da22",
   "metadata": {},
   "outputs": [],
   "source": [
    "@everywhere begin\n",
    "    \n",
    "    include(\"TEData.jl\")\n",
    "    include(\"Functions.jl\")\n",
    "    include(\"TrajectorySampler.jl\")\n",
    "\n",
    "\n",
    "    N = 20\n",
    "    Jx = 1.\n",
    "    Jz = 0.\n",
    "    h = 0.\n",
    "    gamma = 1.\n",
    "\n",
    "    dissipation = \"Sz\"\n",
    "\n",
    "    maxdim = 700\n",
    "    cutoff = 1E-8\n",
    "    conserve_qns = true\n",
    "    track_states = false\n",
    "    track_entropy = true\n",
    "    track_local_observables = [\"Sz\"]\n",
    "\n",
    "\n",
    "    # time evolution\n",
    "    t_end = 100. # end time\n",
    "    tau = 1. # for data collection\n",
    "    dt = 0.1 # for discretization\n",
    "\n",
    "    n_thread = Threads.nthreads()\n",
    "\n",
    "    v_t = Array((0.: tau: t_end))\n",
    "    \n",
    "    var_keys = vcat([\"maxdim\"], track_local_observables)\n",
    "    if track_entropy\n",
    "        var_keys = vcat([\"S\"],var_keys)\n",
    "    end\n",
    "\n",
    "    #data_opt = Array{Any,1}\n",
    "    #data_bare = Array{Any, 1} \n",
    "\n",
    "\n",
    "    # prepare TE\n",
    "    params = XXZ_data(N, Jx, Jz, h, gamma, dissipation)\n",
    "    ted = TE_data_XXZ(params, dt; maxdim=maxdim, cutoff=cutoff, conserve_qns=conserve_qns)\n",
    "\n",
    "    # initial state\n",
    "    psi = productMPS(ted.s, n-> isodd(n) ? \"Up\" : \"Dn\")\n",
    "end\n",
    "\n"
   ]
  },
  {
   "cell_type": "code",
   "execution_count": 32,
   "id": "85fbc9c6",
   "metadata": {
    "scrolled": true
   },
   "outputs": [
    {
     "name": "stdout",
     "output_type": "stream",
     "text": [
      "  0.018553 seconds (12.46 k allocations: 506.419 KiB)\n",
      "  0.019018 seconds (14.18 k allocations: 577.528 KiB)\n",
      "Obtaining optimized samples...\n",
      "Obtaining bare samples...\n"
     ]
    },
    {
     "name": "stderr",
     "output_type": "stream",
     "text": [
      "Worker 22 terminated.\n",
      "Worker 20 terminated.\n",
      "Worker 7 terminated.\n",
      "Worker 115 terminated.\n",
      "Worker 124 terminated.\n",
      "Worker 5 terminated.\n",
      "Worker 50 terminated.\n",
      "Worker 126 terminated.\n",
      "Worker 4 terminated.\n",
      "Worker 30 terminated.\n",
      "Worker 101 terminated.\n",
      "Worker 48 terminated.\n",
      "Worker 14 terminated.\n",
      "Worker 6 terminated.\n",
      "Worker 116 terminated.\n",
      "Worker 49 terminated.\n",
      "Worker 91 terminated.\n",
      "Worker 118 terminated.\n",
      "Worker 129 terminated.\n",
      "Worker 11 terminated.\n",
      "Worker 105 terminated.\n",
      "Worker 53 terminated.\n",
      "Worker 28 terminated.\n",
      "Worker 103 terminated.\n",
      "Worker 89 terminated.\n",
      "Worker 95 terminated.\n",
      "Worker 33 terminated.\n",
      "Worker 83 terminated.\n",
      "Worker 61 terminated.\n",
      "Worker 128 terminated.\n",
      "Worker 84 terminated.\n",
      "Worker 73 terminated.\n",
      "Worker 8 terminated.\n",
      "Worker 37 terminated.\n"
     ]
    },
    {
     "ename": "LoadError",
     "evalue": "\u001b[91mProcessExitedException(28)\u001b[39m",
     "output_type": "error",
     "traceback": [
      "\u001b[91mProcessExitedException(28)\u001b[39m",
      "",
      "Stacktrace:",
      " [1] (::Base.var\"#770#772\")(::Task) at ./asyncmap.jl:178",
      " [2] foreach(::Base.var\"#770#772\", ::Array{Any,1}) at ./abstractarray.jl:2009",
      " [3] maptwice(::Function, ::Channel{Any}, ::Array{Any,1}, ::UnitRange{Int64}) at ./asyncmap.jl:178",
      " [4] wrap_n_exec_twice(::Channel{Any}, ::Array{Any,1}, ::Distributed.var\"#206#209\"{WorkerPool}, ::Function, ::UnitRange{Int64}) at ./asyncmap.jl:154",
      " [5] async_usemap(::Distributed.var\"#190#192\"{Distributed.var\"#190#191#193\"{WorkerPool,var\"#52#53\"}}, ::UnitRange{Int64}; ntasks::Function, batch_size::Nothing) at ./asyncmap.jl:103",
      " [6] #asyncmap#754 at ./asyncmap.jl:81 [inlined]",
      " [7] pmap(::Function, ::WorkerPool, ::UnitRange{Int64}; distributed::Bool, batch_size::Int64, on_error::Nothing, retry_delays::Array{Any,1}, retry_check::Nothing) at /tmp/spack/spack-stage/spack-stage-julia-1.5.2-uxoafs7t267kqmq2asbsjfza5pcezf47/spack-src/usr/share/julia/stdlib/v1.5/Distributed/src/pmap.jl:126",
      " [8] pmap(::Function, ::WorkerPool, ::UnitRange{Int64}) at /tmp/spack/spack-stage/spack-stage-julia-1.5.2-uxoafs7t267kqmq2asbsjfza5pcezf47/spack-src/usr/share/julia/stdlib/v1.5/Distributed/src/pmap.jl:101",
      " [9] pmap(::Function, ::UnitRange{Int64}; kwargs::Base.Iterators.Pairs{Union{},Union{},Tuple{},NamedTuple{(),Tuple{}}}) at /tmp/spack/spack-stage/spack-stage-julia-1.5.2-uxoafs7t267kqmq2asbsjfza5pcezf47/spack-src/usr/share/julia/stdlib/v1.5/Distributed/src/pmap.jl:156",
      " [10] pmap(::Function, ::UnitRange{Int64}) at /tmp/spack/spack-stage/spack-stage-julia-1.5.2-uxoafs7t267kqmq2asbsjfza5pcezf47/spack-src/usr/share/julia/stdlib/v1.5/Distributed/src/pmap.jl:156"
     ]
    }
   ],
   "source": [
    "nsample = Threads.nthreads()\n",
    "\n",
    "@time @everywhere f_opt() = sample_trajectory(psi, ted, v_t; \n",
    "    track_states=track_states, \n",
    "    track_entropy=track_entropy, \n",
    "    track_local_observables=track_local_observables, \n",
    "    optimal=true)\n",
    "\n",
    "@time @everywhere f_bare() = sample_trajectory(psi, ted, v_t; \n",
    "    track_states=track_states, \n",
    "    track_entropy=track_entropy, \n",
    "    track_local_observables=track_local_observables, \n",
    "    optimal=false)\n",
    "\n",
    "println(\"Obtaining optimized samples...\")\n",
    "results_opt = pmap(1:nsample) do _\n",
    "    result=f_opt()\n",
    "end\n",
    "\n",
    "\n",
    "println(\"Obtaining bare samples...\")\n",
    "results_bare = pmap(1:nsample) do _\n",
    "    result=f_bare()\n",
    "end"
   ]
  },
  {
   "cell_type": "code",
   "execution_count": 39,
   "id": "764c81cb",
   "metadata": {},
   "outputs": [],
   "source": [
    "# bring dict labels outwards\n",
    "\n",
    "\n",
    "function dict_invert(d_in::Array{Dict{Any,Any},1})\n",
    "    ks = keys(d_in[1])\n",
    "    N = length(d_in)\n",
    "    \n",
    "    # initialize\n",
    "    d_return = Dict()\n",
    "    for key in ks\n",
    "        d_return[key] = Array{Any}[]\n",
    "    end\n",
    "    \n",
    "    for d_sample in d_in\n",
    "        for key in ks\n",
    "            push!(d_return[key], d_sample[key] )\n",
    "        end\n",
    "    end\n",
    "    \n",
    "    return d_return\n",
    "end\n",
    "    \n",
    "d_opt = dict_invert(results_opt)\n",
    "d_bare = dict_invert(results_bare)    \n",
    "\n",
    "# get means and save in dictionary\n",
    "for key in var_keys\n",
    "    d_opt[key*\"_mean\"] = mean(d_opt[key])\n",
    "    d_bare[key*\"_mean\"] = mean(d_bare[key])\n",
    "end"
   ]
  },
  {
   "cell_type": "code",
   "execution_count": 40,
   "id": "a612f7bb",
   "metadata": {},
   "outputs": [
    {
     "ename": "BoundsError",
     "evalue": "\u001b[91mBoundsError: attempt to access 41-element Array{Float64,1} at index [1:101]\u001b[39m",
     "output_type": "error",
     "traceback": [
      "\u001b[91mBoundsError: attempt to access 41-element Array{Float64,1} at index [1:101]\u001b[39m",
      "",
      "Stacktrace:",
      " [1] throw_boundserror(::Array{Float64,1}, ::Tuple{UnitRange{Int64}}) at ./abstractarray.jl:541",
      " [2] checkbounds at ./abstractarray.jl:506 [inlined]",
      " [3] getindex(::Array{Float64,1}, ::UnitRange{Int64}) at ./array.jl:815",
      " [4] gr_draw_segments(::Plots.Series, ::Array{Float64,1}, ::Array{Float64,1}, ::Nothing, ::Tuple{Float64,Float64}) at /jet/home/mathvr/.julia/packages/Plots/AJMX6/src/backends/gr.jl:1920",
      " [5] gr_add_series(::Plots.Subplot{Plots.GRBackend}, ::Plots.Series) at /jet/home/mathvr/.julia/packages/Plots/AJMX6/src/backends/gr.jl:1835",
      " [6] gr_display(::Plots.Subplot{Plots.GRBackend}, ::Measures.Length{:mm,Float64}, ::Measures.Length{:mm,Float64}, ::Array{Float64,1}) at /jet/home/mathvr/.julia/packages/Plots/AJMX6/src/backends/gr.jl:1005",
      " [7] gr_display(::Plots.Plot{Plots.GRBackend}, ::String) at /jet/home/mathvr/.julia/packages/Plots/AJMX6/src/backends/gr.jl:670",
      " [8] _show(::Base.GenericIOBuffer{Array{UInt8,1}}, ::MIME{Symbol(\"image/svg+xml\")}, ::Plots.Plot{Plots.GRBackend}) at /jet/home/mathvr/.julia/packages/Plots/AJMX6/src/backends/gr.jl:2169",
      " [9] show(::Base.GenericIOBuffer{Array{UInt8,1}}, ::MIME{Symbol(\"image/svg+xml\")}, ::Plots.Plot{Plots.GRBackend}) at /jet/home/mathvr/.julia/packages/Plots/AJMX6/src/output.jl:213",
      " [10] sprint(::Function, ::MIME{Symbol(\"image/svg+xml\")}, ::Vararg{Any,N} where N; context::Nothing, sizehint::Int64) at ./strings/io.jl:105",
      " [11] sprint at ./strings/io.jl:101 [inlined]",
      " [12] _ijulia_display_dict(::Plots.Plot{Plots.GRBackend}) at /jet/home/mathvr/.julia/packages/Plots/AJMX6/src/ijulia.jl:47",
      " [13] display_dict(::Plots.Plot{Plots.GRBackend}) at /jet/home/mathvr/.julia/packages/Plots/AJMX6/src/init.jl:93",
      " [14] #invokelatest#1 at ./essentials.jl:710 [inlined]",
      " [15] invokelatest at ./essentials.jl:709 [inlined]",
      " [16] execute_request(::ZMQ.Socket, ::IJulia.Msg) at /jet/home/mathvr/.julia/packages/IJulia/AQu2H/src/execute_request.jl:112",
      " [17] #invokelatest#1 at ./essentials.jl:710 [inlined]",
      " [18] invokelatest at ./essentials.jl:709 [inlined]",
      " [19] eventloop(::ZMQ.Socket) at /jet/home/mathvr/.julia/packages/IJulia/AQu2H/src/eventloop.jl:8",
      " [20] (::IJulia.var\"#15#18\")() at ./task.jl:356"
     ]
    }
   ],
   "source": [
    "label1 = \"S_mean\"\n",
    "label2 = \"Sz_mean\"\n",
    "time = 19.\n",
    "\n",
    "it = argmin(abs.(time.-v_t))\n",
    "\n",
    "l = @layout [a b; c d]\n",
    "#plot(v_t,d_bare[label1][:,div(N,2)], label=\"bare\")\n",
    "p1 = plot!(v_t,d_opt[label1][:,div(N,2)], label=\"optimal\")\n",
    "\n",
    "\n",
    "#plot(v_t,d_bare[label2][:,div(N,2)], label=\"bare\")\n",
    "p2 = plot!(v_t,d_opt[label2][:,div(N,2)], label=\"optimal\")\n",
    "\n",
    "#plot(d_bare[label1][end,:], label=\"bare\")\n",
    "p3 = plot!(d_opt[label1][it,:], label=\"optimal\")\n",
    "\n",
    "#plot(d_bare[label2][end,:], label=\"bare\")\n",
    "p4 = plot!(d_opt[label2][it,:], label=\"optimal\")\n",
    "\n",
    "plot(p1, p2, p3, p4, layout = l, size=(1000,800))\n"
   ]
  },
  {
   "cell_type": "code",
   "execution_count": 38,
   "id": "50e4659a",
   "metadata": {},
   "outputs": [
    {
     "ename": "BoundsError",
     "evalue": "\u001b[91mBoundsError: attempt to access 41-element Array{Float64,1} at index [1:101]\u001b[39m",
     "output_type": "error",
     "traceback": [
      "\u001b[91mBoundsError: attempt to access 41-element Array{Float64,1} at index [1:101]\u001b[39m",
      "",
      "Stacktrace:",
      " [1] throw_boundserror(::Array{Float64,1}, ::Tuple{UnitRange{Int64}}) at ./abstractarray.jl:541",
      " [2] checkbounds at ./abstractarray.jl:506 [inlined]",
      " [3] getindex(::Array{Float64,1}, ::UnitRange{Int64}) at ./array.jl:815",
      " [4] gr_draw_segments(::Plots.Series, ::Array{Float64,1}, ::Array{Float64,1}, ::Nothing, ::Tuple{Float64,Float64}) at /jet/home/mathvr/.julia/packages/Plots/AJMX6/src/backends/gr.jl:1920",
      " [5] gr_add_series(::Plots.Subplot{Plots.GRBackend}, ::Plots.Series) at /jet/home/mathvr/.julia/packages/Plots/AJMX6/src/backends/gr.jl:1835",
      " [6] gr_display(::Plots.Subplot{Plots.GRBackend}, ::Measures.Length{:mm,Float64}, ::Measures.Length{:mm,Float64}, ::Array{Float64,1}) at /jet/home/mathvr/.julia/packages/Plots/AJMX6/src/backends/gr.jl:1005",
      " [7] gr_display(::Plots.Plot{Plots.GRBackend}, ::String) at /jet/home/mathvr/.julia/packages/Plots/AJMX6/src/backends/gr.jl:670",
      " [8] _show(::Base.GenericIOBuffer{Array{UInt8,1}}, ::MIME{Symbol(\"image/svg+xml\")}, ::Plots.Plot{Plots.GRBackend}) at /jet/home/mathvr/.julia/packages/Plots/AJMX6/src/backends/gr.jl:2169",
      " [9] show(::Base.GenericIOBuffer{Array{UInt8,1}}, ::MIME{Symbol(\"image/svg+xml\")}, ::Plots.Plot{Plots.GRBackend}) at /jet/home/mathvr/.julia/packages/Plots/AJMX6/src/output.jl:213",
      " [10] sprint(::Function, ::MIME{Symbol(\"image/svg+xml\")}, ::Vararg{Any,N} where N; context::Nothing, sizehint::Int64) at ./strings/io.jl:105",
      " [11] sprint at ./strings/io.jl:101 [inlined]",
      " [12] _ijulia_display_dict(::Plots.Plot{Plots.GRBackend}) at /jet/home/mathvr/.julia/packages/Plots/AJMX6/src/ijulia.jl:47",
      " [13] display_dict(::Plots.Plot{Plots.GRBackend}) at /jet/home/mathvr/.julia/packages/Plots/AJMX6/src/init.jl:93",
      " [14] #invokelatest#1 at ./essentials.jl:710 [inlined]",
      " [15] invokelatest at ./essentials.jl:709 [inlined]",
      " [16] execute_request(::ZMQ.Socket, ::IJulia.Msg) at /jet/home/mathvr/.julia/packages/IJulia/AQu2H/src/execute_request.jl:112",
      " [17] #invokelatest#1 at ./essentials.jl:710 [inlined]",
      " [18] invokelatest at ./essentials.jl:709 [inlined]",
      " [19] eventloop(::ZMQ.Socket) at /jet/home/mathvr/.julia/packages/IJulia/AQu2H/src/eventloop.jl:8",
      " [20] (::IJulia.var\"#15#18\")() at ./task.jl:356"
     ]
    }
   ],
   "source": [
    "plot(v_t,mean(d_bare[\"maxdim\"]), label=\"bare\")\n",
    "plot!(v_t,mean(d_opt[\"maxdim\"]), label=\"optimal\")"
   ]
  },
  {
   "cell_type": "code",
   "execution_count": null,
   "id": "26f1e5ba",
   "metadata": {},
   "outputs": [],
   "source": [
    "label = \"S_mean\"\n",
    "time = 20.\n",
    "\n",
    "it = argmin(abs.(time.-v_t))\n",
    "\n",
    "plot(d_opt[label][it,:], label=\"optimal\")\n",
    "plot!(d_bare[label][end,:], label=\"bare\")"
   ]
  },
  {
   "cell_type": "code",
   "execution_count": null,
   "id": "f3bb7cdd",
   "metadata": {},
   "outputs": [],
   "source": [
    "label = \"Sz_mean\"\n",
    "time = 20.\n",
    "\n",
    "it = argmin(abs.(time.-v_t))\n",
    "\n",
    "plot(d_opt[label][it,:], label=\"optimal\")\n",
    "plot!(d_bare[label][end,:], label=\"bare\")"
   ]
  },
  {
   "cell_type": "code",
   "execution_count": null,
   "id": "3bb9e294",
   "metadata": {},
   "outputs": [],
   "source": [
    "offset = 1\n",
    "println(Array((offset+1):2:(N-1)))\n",
    "println(Array(reverse((offset+1):2:(N-1))))"
   ]
  },
  {
   "cell_type": "code",
   "execution_count": 27,
   "id": "a187e038",
   "metadata": {},
   "outputs": [
    {
     "data": {
      "text/plain": [
       " * Status: success\n",
       "\n",
       " * Candidate solution\n",
       "    Final objective value:     -1.000000e+00\n",
       "\n",
       " * Found with\n",
       "    Algorithm:     Nelder-Mead\n",
       "\n",
       " * Convergence measures\n",
       "    √(Σ(yᵢ-ȳ)²)/n ≤ 1.0e-08\n",
       "\n",
       " * Work counters\n",
       "    Seconds run:   0  (vs limit Inf)\n",
       "    Iterations:    11\n",
       "    f(x) calls:    25\n"
      ]
     },
     "execution_count": 27,
     "metadata": {},
     "output_type": "execute_result"
    }
   ],
   "source": [
    "\n",
    "\n",
    "function d()\n",
    "    f(x) = cos(x[1])\n",
    "    result = optimize(f, [0.])\n",
    "    return result\n",
    "end\n",
    "\n",
    "d()"
   ]
  },
  {
   "cell_type": "code",
   "execution_count": null,
   "id": "b87ce4b5",
   "metadata": {},
   "outputs": [],
   "source": []
  }
 ],
 "metadata": {
  "kernelspec": {
   "display_name": "Julia (128 threads) 1.5.2",
   "language": "julia",
   "name": "julia-(128-threads)-1.5"
  },
  "language_info": {
   "file_extension": ".jl",
   "mimetype": "application/julia",
   "name": "julia",
   "version": "1.5.2"
  }
 },
 "nbformat": 4,
 "nbformat_minor": 5
}
