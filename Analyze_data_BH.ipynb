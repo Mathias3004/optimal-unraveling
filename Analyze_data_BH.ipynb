{
 "cells": [
  {
   "cell_type": "code",
   "execution_count": null,
   "id": "f65f0b45",
   "metadata": {},
   "outputs": [],
   "source": [
    "import numpy as np\n",
    "import matplotlib.pyplot as plt\n",
    "import sys\n",
    "import progressbar\n",
    "\n",
    "folder = \"store_BH/\""
   ]
  },
  {
   "cell_type": "code",
   "execution_count": 2,
   "id": "d424bf66",
   "metadata": {},
   "outputs": [
    {
     "name": "stdout",
     "output_type": "stream",
     "text": [
      "dat__loc_N_10_J_1.00_V_1.00_gamma_0.50_it_10_S.txt\r\n",
      "dat__loc_N_10_J_1.00_V_1.00_gamma_0.50_it_10_maxdim.txt\r\n",
      "dat__loc_N_10_J_1.00_V_1.00_gamma_0.50_it_10_n.txt\r\n",
      "dat__loc_N_10_J_1.00_V_1.00_gamma_0.50_it_11_S.txt\r\n",
      "dat__loc_N_10_J_1.00_V_1.00_gamma_0.50_it_11_maxdim.txt\r\n",
      "dat__loc_N_10_J_1.00_V_1.00_gamma_0.50_it_11_n.txt\r\n",
      "dat__loc_N_10_J_1.00_V_1.00_gamma_0.50_it_12_S.txt\r\n",
      "dat__loc_N_10_J_1.00_V_1.00_gamma_0.50_it_12_maxdim.txt\r\n",
      "dat__loc_N_10_J_1.00_V_1.00_gamma_0.50_it_12_n.txt\r\n",
      "dat__loc_N_10_J_1.00_V_1.00_gamma_0.50_it_13_S.txt\r\n",
      "dat__loc_N_10_J_1.00_V_1.00_gamma_0.50_it_13_maxdim.txt\r\n",
      "dat__loc_N_10_J_1.00_V_1.00_gamma_0.50_it_13_n.txt\r\n",
      "dat__loc_N_10_J_1.00_V_1.00_gamma_0.50_it_14_S.txt\r\n",
      "dat__loc_N_10_J_1.00_V_1.00_gamma_0.50_it_14_maxdim.txt\r\n",
      "dat__loc_N_10_J_1.00_V_1.00_gamma_0.50_it_14_n.txt\r\n",
      "dat__loc_N_10_J_1.00_V_1.00_gamma_0.50_it_15_S.txt\r\n",
      "dat__loc_N_10_J_1.00_V_1.00_gamma_0.50_it_15_maxdim.txt\r\n",
      "dat__loc_N_10_J_1.00_V_1.00_gamma_0.50_it_15_n.txt\r\n",
      "dat__loc_N_10_J_1.00_V_1.00_gamma_0.50_it_16_S.txt\r\n",
      "dat__loc_N_10_J_1.00_V_1.00_gamma_0.50_it_16_maxdim.txt\r\n",
      "dat__loc_N_10_J_1.00_V_1.00_gamma_0.50_it_16_n.txt\r\n",
      "dat__loc_N_10_J_1.00_V_1.00_gamma_0.50_it_17_S.txt\r\n",
      "dat__loc_N_10_J_1.00_V_1.00_gamma_0.50_it_17_maxdim.txt\r\n",
      "dat__loc_N_10_J_1.00_V_1.00_gamma_0.50_it_17_n.txt\r\n",
      "dat__loc_N_10_J_1.00_V_1.00_gamma_0.50_it_18_S.txt\r\n",
      "dat__loc_N_10_J_1.00_V_1.00_gamma_0.50_it_18_maxdim.txt\r\n",
      "dat__loc_N_10_J_1.00_V_1.00_gamma_0.50_it_18_n.txt\r\n",
      "dat__loc_N_10_J_1.00_V_1.00_gamma_0.50_it_19_S.txt\r\n",
      "dat__loc_N_10_J_1.00_V_1.00_gamma_0.50_it_19_maxdim.txt\r\n",
      "dat__loc_N_10_J_1.00_V_1.00_gamma_0.50_it_19_n.txt\r\n",
      "dat__loc_N_10_J_1.00_V_1.00_gamma_0.50_it_1_S.txt\r\n",
      "dat__loc_N_10_J_1.00_V_1.00_gamma_0.50_it_1_maxdim.txt\r\n",
      "dat__loc_N_10_J_1.00_V_1.00_gamma_0.50_it_1_n.txt\r\n",
      "dat__loc_N_10_J_1.00_V_1.00_gamma_0.50_it_20_S.txt\r\n",
      "dat__loc_N_10_J_1.00_V_1.00_gamma_0.50_it_20_maxdim.txt\r\n",
      "dat__loc_N_10_J_1.00_V_1.00_gamma_0.50_it_20_n.txt\r\n",
      "dat__loc_N_10_J_1.00_V_1.00_gamma_0.50_it_2_S.txt\r\n",
      "dat__loc_N_10_J_1.00_V_1.00_gamma_0.50_it_2_maxdim.txt\r\n",
      "dat__loc_N_10_J_1.00_V_1.00_gamma_0.50_it_2_n.txt\r\n",
      "dat__loc_N_10_J_1.00_V_1.00_gamma_0.50_it_3_S.txt\r\n",
      "dat__loc_N_10_J_1.00_V_1.00_gamma_0.50_it_3_maxdim.txt\r\n",
      "dat__loc_N_10_J_1.00_V_1.00_gamma_0.50_it_3_n.txt\r\n",
      "dat__loc_N_10_J_1.00_V_1.00_gamma_0.50_it_4_S.txt\r\n",
      "dat__loc_N_10_J_1.00_V_1.00_gamma_0.50_it_4_maxdim.txt\r\n",
      "dat__loc_N_10_J_1.00_V_1.00_gamma_0.50_it_4_n.txt\r\n",
      "dat__loc_N_10_J_1.00_V_1.00_gamma_0.50_it_5_S.txt\r\n",
      "dat__loc_N_10_J_1.00_V_1.00_gamma_0.50_it_5_maxdim.txt\r\n",
      "dat__loc_N_10_J_1.00_V_1.00_gamma_0.50_it_5_n.txt\r\n",
      "dat__loc_N_10_J_1.00_V_1.00_gamma_0.50_it_6_S.txt\r\n",
      "dat__loc_N_10_J_1.00_V_1.00_gamma_0.50_it_6_maxdim.txt\r\n",
      "dat__loc_N_10_J_1.00_V_1.00_gamma_0.50_it_6_n.txt\r\n",
      "dat__loc_N_10_J_1.00_V_1.00_gamma_0.50_it_7_S.txt\r\n",
      "dat__loc_N_10_J_1.00_V_1.00_gamma_0.50_it_7_maxdim.txt\r\n",
      "dat__loc_N_10_J_1.00_V_1.00_gamma_0.50_it_7_n.txt\r\n",
      "dat__loc_N_10_J_1.00_V_1.00_gamma_0.50_it_8_S.txt\r\n",
      "dat__loc_N_10_J_1.00_V_1.00_gamma_0.50_it_8_maxdim.txt\r\n",
      "dat__loc_N_10_J_1.00_V_1.00_gamma_0.50_it_8_n.txt\r\n",
      "dat__loc_N_10_J_1.00_V_1.00_gamma_0.50_it_9_S.txt\r\n",
      "dat__loc_N_10_J_1.00_V_1.00_gamma_0.50_it_9_maxdim.txt\r\n",
      "dat__loc_N_10_J_1.00_V_1.00_gamma_0.50_it_9_n.txt\r\n",
      "dat__loc_N_10_J_1.00_V_1.00_gamma_1.20_it_10_S.txt\r\n",
      "dat__loc_N_10_J_1.00_V_1.00_gamma_1.20_it_10_maxdim.txt\r\n",
      "dat__loc_N_10_J_1.00_V_1.00_gamma_1.20_it_10_n.txt\r\n",
      "dat__loc_N_10_J_1.00_V_1.00_gamma_1.20_it_11_S.txt\r\n",
      "dat__loc_N_10_J_1.00_V_1.00_gamma_1.20_it_11_maxdim.txt\r\n",
      "dat__loc_N_10_J_1.00_V_1.00_gamma_1.20_it_11_n.txt\r\n",
      "dat__loc_N_10_J_1.00_V_1.00_gamma_1.20_it_12_S.txt\r\n",
      "dat__loc_N_10_J_1.00_V_1.00_gamma_1.20_it_12_maxdim.txt\r\n",
      "dat__loc_N_10_J_1.00_V_1.00_gamma_1.20_it_12_n.txt\r\n",
      "dat__loc_N_10_J_1.00_V_1.00_gamma_1.20_it_13_S.txt\r\n",
      "dat__loc_N_10_J_1.00_V_1.00_gamma_1.20_it_13_maxdim.txt\r\n",
      "dat__loc_N_10_J_1.00_V_1.00_gamma_1.20_it_13_n.txt\r\n",
      "dat__loc_N_10_J_1.00_V_1.00_gamma_1.20_it_14_S.txt\r\n",
      "dat__loc_N_10_J_1.00_V_1.00_gamma_1.20_it_14_maxdim.txt\r\n",
      "dat__loc_N_10_J_1.00_V_1.00_gamma_1.20_it_14_n.txt\r\n",
      "dat__loc_N_10_J_1.00_V_1.00_gamma_1.20_it_15_S.txt\r\n",
      "dat__loc_N_10_J_1.00_V_1.00_gamma_1.20_it_15_maxdim.txt\r\n",
      "dat__loc_N_10_J_1.00_V_1.00_gamma_1.20_it_15_n.txt\r\n",
      "dat__loc_N_10_J_1.00_V_1.00_gamma_1.20_it_16_S.txt\r\n",
      "dat__loc_N_10_J_1.00_V_1.00_gamma_1.20_it_16_maxdim.txt\r\n",
      "dat__loc_N_10_J_1.00_V_1.00_gamma_1.20_it_16_n.txt\r\n",
      "dat__loc_N_10_J_1.00_V_1.00_gamma_1.20_it_17_S.txt\r\n",
      "dat__loc_N_10_J_1.00_V_1.00_gamma_1.20_it_17_maxdim.txt\r\n",
      "dat__loc_N_10_J_1.00_V_1.00_gamma_1.20_it_17_n.txt\r\n",
      "dat__loc_N_10_J_1.00_V_1.00_gamma_1.20_it_1_S.txt\r\n",
      "dat__loc_N_10_J_1.00_V_1.00_gamma_1.20_it_1_maxdim.txt\r\n",
      "dat__loc_N_10_J_1.00_V_1.00_gamma_1.20_it_1_n.txt\r\n",
      "dat__loc_N_10_J_1.00_V_1.00_gamma_1.20_it_2_S.txt\r\n",
      "dat__loc_N_10_J_1.00_V_1.00_gamma_1.20_it_2_maxdim.txt\r\n",
      "dat__loc_N_10_J_1.00_V_1.00_gamma_1.20_it_2_n.txt\r\n",
      "dat__loc_N_10_J_1.00_V_1.00_gamma_1.20_it_3_S.txt\r\n",
      "dat__loc_N_10_J_1.00_V_1.00_gamma_1.20_it_3_maxdim.txt\r\n",
      "dat__loc_N_10_J_1.00_V_1.00_gamma_1.20_it_3_n.txt\r\n",
      "dat__loc_N_10_J_1.00_V_1.00_gamma_1.20_it_4_S.txt\r\n",
      "dat__loc_N_10_J_1.00_V_1.00_gamma_1.20_it_4_maxdim.txt\r\n",
      "dat__loc_N_10_J_1.00_V_1.00_gamma_1.20_it_4_n.txt\r\n",
      "dat__loc_N_10_J_1.00_V_1.00_gamma_1.20_it_5_S.txt\r\n",
      "dat__loc_N_10_J_1.00_V_1.00_gamma_1.20_it_5_maxdim.txt\r\n",
      "dat__loc_N_10_J_1.00_V_1.00_gamma_1.20_it_5_n.txt\r\n",
      "dat__loc_N_10_J_1.00_V_1.00_gamma_1.20_it_6_S.txt\r\n",
      "dat__loc_N_10_J_1.00_V_1.00_gamma_1.20_it_6_maxdim.txt\r\n",
      "dat__loc_N_10_J_1.00_V_1.00_gamma_1.20_it_6_n.txt\r\n",
      "dat__loc_N_10_J_1.00_V_1.00_gamma_1.20_it_7_S.txt\r\n",
      "dat__loc_N_10_J_1.00_V_1.00_gamma_1.20_it_7_maxdim.txt\r\n",
      "dat__loc_N_10_J_1.00_V_1.00_gamma_1.20_it_7_n.txt\r\n",
      "dat__loc_N_10_J_1.00_V_1.00_gamma_1.20_it_8_S.txt\r\n",
      "dat__loc_N_10_J_1.00_V_1.00_gamma_1.20_it_8_maxdim.txt\r\n",
      "dat__loc_N_10_J_1.00_V_1.00_gamma_1.20_it_8_n.txt\r\n",
      "dat__loc_N_10_J_1.00_V_1.00_gamma_1.20_it_9_S.txt\r\n",
      "dat__loc_N_10_J_1.00_V_1.00_gamma_1.20_it_9_maxdim.txt\r\n",
      "dat__loc_N_10_J_1.00_V_1.00_gamma_1.20_it_9_n.txt\r\n",
      "dat__opt_N_10_J_1.00_V_1.00_gamma_0.50_it_10_S.txt\r\n",
      "dat__opt_N_10_J_1.00_V_1.00_gamma_0.50_it_10_maxdim.txt\r\n",
      "dat__opt_N_10_J_1.00_V_1.00_gamma_0.50_it_10_n.txt\r\n",
      "dat__opt_N_10_J_1.00_V_1.00_gamma_0.50_it_11_S.txt\r\n",
      "dat__opt_N_10_J_1.00_V_1.00_gamma_0.50_it_11_maxdim.txt\r\n",
      "dat__opt_N_10_J_1.00_V_1.00_gamma_0.50_it_11_n.txt\r\n",
      "dat__opt_N_10_J_1.00_V_1.00_gamma_0.50_it_12_S.txt\r\n",
      "dat__opt_N_10_J_1.00_V_1.00_gamma_0.50_it_12_maxdim.txt\r\n",
      "dat__opt_N_10_J_1.00_V_1.00_gamma_0.50_it_12_n.txt\r\n",
      "dat__opt_N_10_J_1.00_V_1.00_gamma_0.50_it_13_S.txt\r\n",
      "dat__opt_N_10_J_1.00_V_1.00_gamma_0.50_it_13_maxdim.txt\r\n",
      "dat__opt_N_10_J_1.00_V_1.00_gamma_0.50_it_13_n.txt\r\n",
      "dat__opt_N_10_J_1.00_V_1.00_gamma_0.50_it_14_S.txt\r\n",
      "dat__opt_N_10_J_1.00_V_1.00_gamma_0.50_it_14_maxdim.txt\r\n",
      "dat__opt_N_10_J_1.00_V_1.00_gamma_0.50_it_14_n.txt\r\n",
      "dat__opt_N_10_J_1.00_V_1.00_gamma_0.50_it_15_S.txt\r\n",
      "dat__opt_N_10_J_1.00_V_1.00_gamma_0.50_it_15_maxdim.txt\r\n",
      "dat__opt_N_10_J_1.00_V_1.00_gamma_0.50_it_15_n.txt\r\n",
      "dat__opt_N_10_J_1.00_V_1.00_gamma_0.50_it_16_S.txt\r\n",
      "dat__opt_N_10_J_1.00_V_1.00_gamma_0.50_it_16_maxdim.txt\r\n",
      "dat__opt_N_10_J_1.00_V_1.00_gamma_0.50_it_16_n.txt\r\n",
      "dat__opt_N_10_J_1.00_V_1.00_gamma_0.50_it_17_S.txt\r\n",
      "dat__opt_N_10_J_1.00_V_1.00_gamma_0.50_it_17_maxdim.txt\r\n",
      "dat__opt_N_10_J_1.00_V_1.00_gamma_0.50_it_17_n.txt\r\n",
      "dat__opt_N_10_J_1.00_V_1.00_gamma_0.50_it_18_S.txt\r\n",
      "dat__opt_N_10_J_1.00_V_1.00_gamma_0.50_it_18_maxdim.txt\r\n",
      "dat__opt_N_10_J_1.00_V_1.00_gamma_0.50_it_18_n.txt\r\n",
      "dat__opt_N_10_J_1.00_V_1.00_gamma_0.50_it_19_S.txt\r\n",
      "dat__opt_N_10_J_1.00_V_1.00_gamma_0.50_it_19_maxdim.txt\r\n",
      "dat__opt_N_10_J_1.00_V_1.00_gamma_0.50_it_19_n.txt\r\n",
      "dat__opt_N_10_J_1.00_V_1.00_gamma_0.50_it_1_S.txt\r\n",
      "dat__opt_N_10_J_1.00_V_1.00_gamma_0.50_it_1_maxdim.txt\r\n",
      "dat__opt_N_10_J_1.00_V_1.00_gamma_0.50_it_1_n.txt\r\n",
      "dat__opt_N_10_J_1.00_V_1.00_gamma_0.50_it_20_S.txt\r\n",
      "dat__opt_N_10_J_1.00_V_1.00_gamma_0.50_it_20_maxdim.txt\r\n",
      "dat__opt_N_10_J_1.00_V_1.00_gamma_0.50_it_20_n.txt\r\n",
      "dat__opt_N_10_J_1.00_V_1.00_gamma_0.50_it_2_S.txt\r\n",
      "dat__opt_N_10_J_1.00_V_1.00_gamma_0.50_it_2_maxdim.txt\r\n",
      "dat__opt_N_10_J_1.00_V_1.00_gamma_0.50_it_2_n.txt\r\n",
      "dat__opt_N_10_J_1.00_V_1.00_gamma_0.50_it_3_S.txt\r\n",
      "dat__opt_N_10_J_1.00_V_1.00_gamma_0.50_it_3_maxdim.txt\r\n",
      "dat__opt_N_10_J_1.00_V_1.00_gamma_0.50_it_3_n.txt\r\n",
      "dat__opt_N_10_J_1.00_V_1.00_gamma_0.50_it_4_S.txt\r\n",
      "dat__opt_N_10_J_1.00_V_1.00_gamma_0.50_it_4_maxdim.txt\r\n",
      "dat__opt_N_10_J_1.00_V_1.00_gamma_0.50_it_4_n.txt\r\n",
      "dat__opt_N_10_J_1.00_V_1.00_gamma_0.50_it_5_S.txt\r\n",
      "dat__opt_N_10_J_1.00_V_1.00_gamma_0.50_it_5_maxdim.txt\r\n",
      "dat__opt_N_10_J_1.00_V_1.00_gamma_0.50_it_5_n.txt\r\n",
      "dat__opt_N_10_J_1.00_V_1.00_gamma_0.50_it_6_S.txt\r\n",
      "dat__opt_N_10_J_1.00_V_1.00_gamma_0.50_it_6_maxdim.txt\r\n",
      "dat__opt_N_10_J_1.00_V_1.00_gamma_0.50_it_6_n.txt\r\n",
      "dat__opt_N_10_J_1.00_V_1.00_gamma_0.50_it_7_S.txt\r\n",
      "dat__opt_N_10_J_1.00_V_1.00_gamma_0.50_it_7_maxdim.txt\r\n",
      "dat__opt_N_10_J_1.00_V_1.00_gamma_0.50_it_7_n.txt\r\n",
      "dat__opt_N_10_J_1.00_V_1.00_gamma_0.50_it_8_S.txt\r\n",
      "dat__opt_N_10_J_1.00_V_1.00_gamma_0.50_it_8_maxdim.txt\r\n",
      "dat__opt_N_10_J_1.00_V_1.00_gamma_0.50_it_8_n.txt\r\n",
      "dat__opt_N_10_J_1.00_V_1.00_gamma_0.50_it_9_S.txt\r\n",
      "dat__opt_N_10_J_1.00_V_1.00_gamma_0.50_it_9_maxdim.txt\r\n",
      "dat__opt_N_10_J_1.00_V_1.00_gamma_0.50_it_9_n.txt\r\n",
      "dat__opt_N_10_J_1.00_V_1.00_gamma_1.20_it_10_S.txt\r\n",
      "dat__opt_N_10_J_1.00_V_1.00_gamma_1.20_it_10_maxdim.txt\r\n",
      "dat__opt_N_10_J_1.00_V_1.00_gamma_1.20_it_10_n.txt\r\n",
      "dat__opt_N_10_J_1.00_V_1.00_gamma_1.20_it_11_S.txt\r\n",
      "dat__opt_N_10_J_1.00_V_1.00_gamma_1.20_it_11_maxdim.txt\r\n",
      "dat__opt_N_10_J_1.00_V_1.00_gamma_1.20_it_11_n.txt\r\n",
      "dat__opt_N_10_J_1.00_V_1.00_gamma_1.20_it_12_S.txt\r\n",
      "dat__opt_N_10_J_1.00_V_1.00_gamma_1.20_it_12_maxdim.txt\r\n",
      "dat__opt_N_10_J_1.00_V_1.00_gamma_1.20_it_12_n.txt\r\n",
      "dat__opt_N_10_J_1.00_V_1.00_gamma_1.20_it_13_S.txt\r\n",
      "dat__opt_N_10_J_1.00_V_1.00_gamma_1.20_it_13_maxdim.txt\r\n",
      "dat__opt_N_10_J_1.00_V_1.00_gamma_1.20_it_13_n.txt\r\n",
      "dat__opt_N_10_J_1.00_V_1.00_gamma_1.20_it_14_S.txt\r\n",
      "dat__opt_N_10_J_1.00_V_1.00_gamma_1.20_it_14_maxdim.txt\r\n",
      "dat__opt_N_10_J_1.00_V_1.00_gamma_1.20_it_14_n.txt\r\n",
      "dat__opt_N_10_J_1.00_V_1.00_gamma_1.20_it_15_S.txt\r\n",
      "dat__opt_N_10_J_1.00_V_1.00_gamma_1.20_it_15_maxdim.txt\r\n",
      "dat__opt_N_10_J_1.00_V_1.00_gamma_1.20_it_15_n.txt\r\n",
      "dat__opt_N_10_J_1.00_V_1.00_gamma_1.20_it_16_S.txt\r\n",
      "dat__opt_N_10_J_1.00_V_1.00_gamma_1.20_it_16_maxdim.txt\r\n",
      "dat__opt_N_10_J_1.00_V_1.00_gamma_1.20_it_16_n.txt\r\n",
      "dat__opt_N_10_J_1.00_V_1.00_gamma_1.20_it_17_S.txt\r\n",
      "dat__opt_N_10_J_1.00_V_1.00_gamma_1.20_it_17_maxdim.txt\r\n",
      "dat__opt_N_10_J_1.00_V_1.00_gamma_1.20_it_17_n.txt\r\n",
      "dat__opt_N_10_J_1.00_V_1.00_gamma_1.20_it_18_S.txt\r\n",
      "dat__opt_N_10_J_1.00_V_1.00_gamma_1.20_it_18_maxdim.txt\r\n",
      "dat__opt_N_10_J_1.00_V_1.00_gamma_1.20_it_18_n.txt\r\n",
      "dat__opt_N_10_J_1.00_V_1.00_gamma_1.20_it_19_S.txt\r\n",
      "dat__opt_N_10_J_1.00_V_1.00_gamma_1.20_it_19_maxdim.txt\r\n",
      "dat__opt_N_10_J_1.00_V_1.00_gamma_1.20_it_19_n.txt\r\n",
      "dat__opt_N_10_J_1.00_V_1.00_gamma_1.20_it_1_S.txt\r\n",
      "dat__opt_N_10_J_1.00_V_1.00_gamma_1.20_it_1_maxdim.txt\r\n",
      "dat__opt_N_10_J_1.00_V_1.00_gamma_1.20_it_1_n.txt\r\n",
      "dat__opt_N_10_J_1.00_V_1.00_gamma_1.20_it_20_S.txt\r\n",
      "dat__opt_N_10_J_1.00_V_1.00_gamma_1.20_it_20_maxdim.txt\r\n",
      "dat__opt_N_10_J_1.00_V_1.00_gamma_1.20_it_20_n.txt\r\n",
      "dat__opt_N_10_J_1.00_V_1.00_gamma_1.20_it_2_S.txt\r\n",
      "dat__opt_N_10_J_1.00_V_1.00_gamma_1.20_it_2_maxdim.txt\r\n",
      "dat__opt_N_10_J_1.00_V_1.00_gamma_1.20_it_2_n.txt\r\n",
      "dat__opt_N_10_J_1.00_V_1.00_gamma_1.20_it_3_S.txt\r\n",
      "dat__opt_N_10_J_1.00_V_1.00_gamma_1.20_it_3_maxdim.txt\r\n",
      "dat__opt_N_10_J_1.00_V_1.00_gamma_1.20_it_3_n.txt\r\n",
      "dat__opt_N_10_J_1.00_V_1.00_gamma_1.20_it_4_S.txt\r\n",
      "dat__opt_N_10_J_1.00_V_1.00_gamma_1.20_it_4_maxdim.txt\r\n",
      "dat__opt_N_10_J_1.00_V_1.00_gamma_1.20_it_4_n.txt\r\n",
      "dat__opt_N_10_J_1.00_V_1.00_gamma_1.20_it_5_S.txt\r\n",
      "dat__opt_N_10_J_1.00_V_1.00_gamma_1.20_it_5_maxdim.txt\r\n",
      "dat__opt_N_10_J_1.00_V_1.00_gamma_1.20_it_5_n.txt\r\n",
      "dat__opt_N_10_J_1.00_V_1.00_gamma_1.20_it_6_S.txt\r\n",
      "dat__opt_N_10_J_1.00_V_1.00_gamma_1.20_it_6_maxdim.txt\r\n",
      "dat__opt_N_10_J_1.00_V_1.00_gamma_1.20_it_6_n.txt\r\n",
      "dat__opt_N_10_J_1.00_V_1.00_gamma_1.20_it_7_S.txt\r\n",
      "dat__opt_N_10_J_1.00_V_1.00_gamma_1.20_it_7_maxdim.txt\r\n",
      "dat__opt_N_10_J_1.00_V_1.00_gamma_1.20_it_7_n.txt\r\n",
      "dat__opt_N_10_J_1.00_V_1.00_gamma_1.20_it_8_S.txt\r\n",
      "dat__opt_N_10_J_1.00_V_1.00_gamma_1.20_it_8_maxdim.txt\r\n",
      "dat__opt_N_10_J_1.00_V_1.00_gamma_1.20_it_8_n.txt\r\n",
      "dat__opt_N_10_J_1.00_V_1.00_gamma_1.20_it_9_S.txt\r\n",
      "dat__opt_N_10_J_1.00_V_1.00_gamma_1.20_it_9_maxdim.txt\r\n",
      "dat__opt_N_10_J_1.00_V_1.00_gamma_1.20_it_9_n.txt\r\n"
     ]
    }
   ],
   "source": [
    "!ls $folder"
   ]
  },
  {
   "cell_type": "code",
   "execution_count": 17,
   "id": "dd7123b1",
   "metadata": {},
   "outputs": [],
   "source": [
    "# list of all parameter generated\n",
    "\n",
    "N = 20\n",
    "J = 1.\n",
    "V = 1.\n",
    "gamma = 1.2\n",
    "v_it = list(range(1,20))\n",
    "\n",
    "n_sample = 256\n",
    "\n",
    "pre = \"dat__\""
   ]
  },
  {
   "cell_type": "code",
   "execution_count": 18,
   "id": "4d8d0a87",
   "metadata": {},
   "outputs": [],
   "source": [
    "# collect all entropies, store in np array\n",
    "\n",
    "# entropies\n",
    "dat_S_opt = np.zeros((len(v_it), N+1, n_sample ))\n",
    "dat_S_loc = np.zeros((len(v_it), N+1, n_sample ))\n",
    "\n",
    "# <Sz> \n",
    "dat_n_opt = np.zeros((len(v_it), N, n_sample ))\n",
    "dat_n_loc = np.zeros((len(v_it), N, n_sample ))\n",
    "\n",
    "# can be structured better, with dict to collect data or so\n",
    "for it in v_it:\n",
    "    # get S\n",
    "    suffix = \"_N_{}_J_{:.2f}_V_{:.2f}_gamma_{:.2f}_it_{}_S\".format(N,J,V,gamma,it)\n",
    "    fn_opt = folder + pre + \"opt\" + suffix + \".txt\"\n",
    "    fn_loc = folder + pre + \"loc\" + suffix + \".txt\"\n",
    "    try:\n",
    "        data_opt = np.loadtxt(fn_opt)\n",
    "        data_loc = np.loadtxt(fn_loc)\n",
    "        dat_S_opt[it-1,:,:] = data_opt.T\n",
    "        dat_S_loc[it-1,:,:] = data_loc.T\n",
    "    except:\n",
    "        print(\"file \" + fn_opt + \" or \" + fn_loc + \" does not exist\")\n",
    "        \n",
    "    # get Sz\n",
    "    suffix = \"_N_{}_J_{:.2f}_V_{:.2f}_gamma_{:.2f}_it_{}_n\".format(N,J,V,gamma,it)\n",
    "    fn_opt = folder + pre + \"opt\" + suffix + \".txt\"\n",
    "    fn_loc = folder + pre + \"loc\" + suffix + \".txt\"\n",
    "    try:\n",
    "        data_opt = np.loadtxt(fn_opt)\n",
    "        data_loc = np.loadtxt(fn_loc)\n",
    "        dat_n_opt[it-1,:,:] = data_opt.T\n",
    "        dat_n_loc[it-1,:,:] = data_loc.T\n",
    "    except:\n",
    "        print(\"file \" + fn_opt + \" or \" + fn_loc + \" does not exist\")\n"
   ]
  },
  {
   "cell_type": "code",
   "execution_count": 19,
   "id": "7edf74e2",
   "metadata": {},
   "outputs": [
    {
     "data": {
      "text/plain": [
       "Text(0.5, 1.0, 'Entanglement profile, last time collected')"
      ]
     },
     "execution_count": 19,
     "metadata": {},
     "output_type": "execute_result"
    },
    {
     "data": {
      "image/png": "[encoded data removed]",
      "text/plain": [
       "<Figure size 432x288 with 1 Axes>"
      ]
     },
     "metadata": {
      "needs_background": "light"
     },
     "output_type": "display_data"
    }
   ],
   "source": [
    "it = -1 # time index to plot, average over all collected trajectories\n",
    "\n",
    "plt.plot(np.mean(dat_S_loc[it], axis=-1), label=\"local\")\n",
    "plt.plot(np.mean(dat_S_opt[it], axis=-1), label=\"optimal\")\n",
    "plt.legend()\n",
    "plt.title(\"Entanglement profile, last time collected\")"
   ]
  },
  {
   "cell_type": "code",
   "execution_count": 20,
   "id": "7c5c6c89",
   "metadata": {},
   "outputs": [
    {
     "data": {
      "text/plain": [
       "Text(0.5, 1.0, \"$\\\\langle a^\\\\dagger a\\\\rangle$'s, last time collected (they must be the same)\")"
      ]
     },
     "execution_count": 20,
     "metadata": {},
     "output_type": "execute_result"
    },
    {
     "data": {
      "image/png": "[encoded data removed]",
      "text/plain": [
       "<Figure size 432x288 with 1 Axes>"
      ]
     },
     "metadata": {
      "needs_background": "light"
     },
     "output_type": "display_data"
    }
   ],
   "source": [
    "it = -1\n",
    "\n",
    "plt.plot(np.mean(dat_n_loc[it], axis=-1), label=\"local\")\n",
    "plt.plot(np.mean(dat_n_opt[it], axis=-1), label=\"optimal\")\n",
    "plt.legend()\n",
    "plt.title(r\"$\\langle a^\\dagger a\\rangle$'s, last time collected (they must be the same)\")\n",
    "\n",
    "#print(\"The distribution seems skewed (for both optimal and local). Perhaps this is because Jz is antiferromagnetic now and incommensure with lattice)\")"
   ]
  },
  {
   "cell_type": "code",
   "execution_count": 21,
   "id": "a1d86200",
   "metadata": {},
   "outputs": [
    {
     "name": "stdout",
     "output_type": "stream",
     "text": [
      "python is /opt/packages/anaconda3/bin/python\r\n"
     ]
    }
   ],
   "source": [
    "!type python"
   ]
  },
  {
   "cell_type": "code",
   "execution_count": null,
   "id": "94971e58",
   "metadata": {},
   "outputs": [],
   "source": [
    "!/opt/packages/anaconda3/bin/python -m pip install --user LightGBM"
   ]
  },
  {
   "cell_type": "code",
   "execution_count": null,
   "id": "5fb79cfd",
   "metadata": {},
   "outputs": [],
   "source": [
    "import LightGBM"
   ]
  },
  {
   "cell_type": "code",
   "execution_count": null,
   "id": "0b299db1",
   "metadata": {},
   "outputs": [],
   "source": []
  }
 ],
 "metadata": {
  "kernelspec": {
   "display_name": "Python 3",
   "language": "python",
   "name": "python3"
  },
  "language_info": {
   "codemirror_mode": {
    "name": "ipython",
    "version": 3
   },
   "file_extension": ".py",
   "mimetype": "text/x-python",
   "name": "python",
   "nbconvert_exporter": "python",
   "pygments_lexer": "ipython3",
   "version": "3.8.5"
  }
 },
 "nbformat": 4,
 "nbformat_minor": 5
}
