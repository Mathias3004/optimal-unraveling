{
 "cells": [
  {
   "cell_type": "code",
   "execution_count": null,
   "id": "48970554",
   "metadata": {},
   "outputs": [],
   "source": [
    "import numpy as np\n",
    "import matplotlib.pyplot as plt\n",
    "import sys\n",
    "import progressbar\n",
    "\n",
    "folder = \"store_XXZ/\""
   ]
  },
  {
   "cell_type": "code",
   "execution_count": null,
   "id": "bae04606",
   "metadata": {},
   "outputs": [],
   "source": [
    "!ls $folder"
   ]
  },
  {
   "cell_type": "code",
   "execution_count": null,
   "id": "da72aa80",
   "metadata": {},
   "outputs": [],
   "source": [
    "# list of all parameter generated\n",
    "\n",
    "N = 10\n",
    "Jz = 0.\n",
    "Jx = -1.\n",
    "gamma = 3.\n",
    "v_it = list(range(1,20))\n",
    "\n",
    "n_sample = 256\n",
    "\n",
    "pre = \"dat__\""
   ]
  },
  {
   "cell_type": "code",
   "execution_count": null,
   "id": "eb958056",
   "metadata": {},
   "outputs": [],
   "source": [
    "# collect all entropies, store in np array\n",
    "\n",
    "# entropies\n",
    "dat_S_opt = np.zeros((len(v_it), N+1, n_sample ))\n",
    "dat_S_loc = np.zeros((len(v_it), N+1, n_sample ))\n",
    "\n",
    "# <Sz> \n",
    "dat_Sz_opt = np.zeros((len(v_it), N, n_sample ))\n",
    "dat_Sz_loc = np.zeros((len(v_it), N, n_sample ))\n",
    "\n",
    "# can be structured better, with dict to collect data or so\n",
    "for it in v_it:\n",
    "    # get S\n",
    "    suffix = \"_N_{}_Jx_{:.2f}_Jz_{:.2f}_gamma_{:.2f}_it_{}_S\".format(N,Jx,Jz,gamma,it)\n",
    "    fn_opt = folder + pre + \"opt\" + suffix + \".txt\"\n",
    "    fn_loc = folder + pre + \"loc\" + suffix + \".txt\"\n",
    "    try:\n",
    "        data_opt = np.loadtxt(fn_opt)\n",
    "        data_loc = np.loadtxt(fn_loc)\n",
    "        dat_S_opt[it-1,:,:] = data_opt.T\n",
    "        dat_S_loc[it-1,:,:] = data_loc.T\n",
    "    except:\n",
    "        print(\"file \" + fn_opt + \" or \" + fn_loc + \" does not exist\")\n",
    "        \n",
    "    # get Sz\n",
    "    suffix = \"_N_{}_Jx_{:.2f}_Jz_{:.2f}_gamma_{:.2f}_it_{}_Sz\".format(N,Jx,Jz,gamma,it)\n",
    "    fn_opt = folder + pre + \"opt\" + suffix + \".txt\"\n",
    "    fn_loc = folder + pre + \"loc\" + suffix + \".txt\"\n",
    "    try:\n",
    "        data_opt = np.loadtxt(fn_opt)\n",
    "        data_loc = np.loadtxt(fn_loc)\n",
    "        dat_Sz_opt[it-1,:,:] = data_opt.T\n",
    "        dat_Sz_loc[it-1,:,:] = data_loc.T\n",
    "    except:\n",
    "        print(\"file \" + fn_opt + \" or \" + fn_loc + \" does not exist\")\n"
   ]
  },
  {
   "cell_type": "code",
   "execution_count": null,
   "id": "340190db",
   "metadata": {},
   "outputs": [],
   "source": [
    "it = -1 # time index to plot, average over all collected trajectories\n",
    "\n",
    "plt.plot(np.mean(dat_S_loc[it], axis=-1), label=\"local\")\n",
    "plt.plot(np.mean(dat_S_opt[it], axis=-1), label=\"optimal\")\n",
    "plt.legend()\n",
    "plt.title(\"Entanglement profile, last time collected\")"
   ]
  },
  {
   "cell_type": "code",
   "execution_count": null,
   "id": "b8bf84ad",
   "metadata": {},
   "outputs": [],
   "source": [
    "it = -1\n",
    "\n",
    "plt.plot(np.mean(dat_Sz_opt[it], axis=-1), label=\"optimal\")\n",
    "plt.plot(np.mean(dat_Sz_loc[it], axis=-1), label=\"local\")\n",
    "plt.legend()\n",
    "plt.title(\"<Sz>'s, last time collected (they must be the same)\")\n",
    "\n",
    "print(\"The distribution seems skewed (for both optimal and local). Perhaps this is because Jz is antiferromagnetic now and incommensure with lattice)\")"
   ]
  },
  {
   "cell_type": "code",
   "execution_count": null,
   "id": "50d4f132",
   "metadata": {},
   "outputs": [],
   "source": [
    "!type python"
   ]
  },
  {
   "cell_type": "code",
   "execution_count": null,
   "id": "8620e6b7",
   "metadata": {},
   "outputs": [],
   "source": [
    "!/opt/packages/anaconda3/bin/python -m pip install --user LightGBM"
   ]
  },
  {
   "cell_type": "code",
   "execution_count": 2,
   "id": "30fc30e1",
   "metadata": {},
   "outputs": [
    {
     "ename": "ModuleNotFoundError",
     "evalue": "No module named 'LightGBM'",
     "output_type": "error",
     "traceback": [
      "\u001b[0;31m---------------------------------------------------------------------------\u001b[0m",
      "\u001b[0;31mModuleNotFoundError\u001b[0m                       Traceback (most recent call last)",
      "\u001b[0;32m<ipython-input-2-949a5cd6c7b6>\u001b[0m in \u001b[0;36m<module>\u001b[0;34m\u001b[0m\n\u001b[0;32m----> 1\u001b[0;31m \u001b[0;32mimport\u001b[0m \u001b[0mLightGBM\u001b[0m\u001b[0;34m\u001b[0m\u001b[0;34m\u001b[0m\u001b[0m\n\u001b[0m",
      "\u001b[0;31mModuleNotFoundError\u001b[0m: No module named 'LightGBM'"
     ]
    }
   ],
   "source": [
    "import LightGBM"
   ]
  },
  {
   "cell_type": "code",
   "execution_count": null,
   "id": "7a2e04ef",
   "metadata": {},
   "outputs": [],
   "source": []
  }
 ],
 "metadata": {
  "kernelspec": {
   "display_name": "Python 3",
   "language": "python",
   "name": "python3"
  },
  "language_info": {
   "codemirror_mode": {
    "name": "ipython",
    "version": 3
   },
   "file_extension": ".py",
   "mimetype": "text/x-python",
   "name": "python",
   "nbconvert_exporter": "python",
   "pygments_lexer": "ipython3",
   "version": "3.8.5"
  }
 },
 "nbformat": 4,
 "nbformat_minor": 5
}
