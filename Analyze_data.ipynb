{
 "cells": [
  {
   "cell_type": "code",
   "execution_count": 1,
   "id": "f98ee5af",
   "metadata": {},
   "outputs": [],
   "source": [
    "import numpy as np\n",
    "import matplotlib.pyplot as plt\n",
    "import sys\n",
    "import progressbar\n",
    "\n",
    "folder = \"store_XXZ/\""
   ]
  },
  {
   "cell_type": "code",
   "execution_count": 2,
   "id": "1ce73487",
   "metadata": {},
   "outputs": [
    {
     "name": "stdout",
     "output_type": "stream",
     "text": [
      "dat__loc_N_10_Jx_1.00_Jz_1.00_gamma_10.00_it_10_S.txt\r\n",
      "dat__loc_N_10_Jx_1.00_Jz_1.00_gamma_10.00_it_10_Sz.txt\r\n",
      "dat__loc_N_10_Jx_1.00_Jz_1.00_gamma_10.00_it_10_maxdim.txt\r\n",
      "dat__loc_N_10_Jx_1.00_Jz_1.00_gamma_10.00_it_11_S.txt\r\n",
      "dat__loc_N_10_Jx_1.00_Jz_1.00_gamma_10.00_it_11_Sz.txt\r\n",
      "dat__loc_N_10_Jx_1.00_Jz_1.00_gamma_10.00_it_11_maxdim.txt\r\n",
      "dat__loc_N_10_Jx_1.00_Jz_1.00_gamma_10.00_it_12_S.txt\r\n",
      "dat__loc_N_10_Jx_1.00_Jz_1.00_gamma_10.00_it_12_Sz.txt\r\n",
      "dat__loc_N_10_Jx_1.00_Jz_1.00_gamma_10.00_it_12_maxdim.txt\r\n",
      "dat__loc_N_10_Jx_1.00_Jz_1.00_gamma_10.00_it_13_S.txt\r\n",
      "dat__loc_N_10_Jx_1.00_Jz_1.00_gamma_10.00_it_13_Sz.txt\r\n",
      "dat__loc_N_10_Jx_1.00_Jz_1.00_gamma_10.00_it_13_maxdim.txt\r\n",
      "dat__loc_N_10_Jx_1.00_Jz_1.00_gamma_10.00_it_14_S.txt\r\n",
      "dat__loc_N_10_Jx_1.00_Jz_1.00_gamma_10.00_it_14_Sz.txt\r\n",
      "dat__loc_N_10_Jx_1.00_Jz_1.00_gamma_10.00_it_14_maxdim.txt\r\n",
      "dat__loc_N_10_Jx_1.00_Jz_1.00_gamma_10.00_it_15_S.txt\r\n",
      "dat__loc_N_10_Jx_1.00_Jz_1.00_gamma_10.00_it_15_Sz.txt\r\n",
      "dat__loc_N_10_Jx_1.00_Jz_1.00_gamma_10.00_it_15_maxdim.txt\r\n",
      "dat__loc_N_10_Jx_1.00_Jz_1.00_gamma_10.00_it_16_S.txt\r\n",
      "dat__loc_N_10_Jx_1.00_Jz_1.00_gamma_10.00_it_16_Sz.txt\r\n",
      "dat__loc_N_10_Jx_1.00_Jz_1.00_gamma_10.00_it_16_maxdim.txt\r\n",
      "dat__loc_N_10_Jx_1.00_Jz_1.00_gamma_10.00_it_17_S.txt\r\n",
      "dat__loc_N_10_Jx_1.00_Jz_1.00_gamma_10.00_it_17_Sz.txt\r\n",
      "dat__loc_N_10_Jx_1.00_Jz_1.00_gamma_10.00_it_17_maxdim.txt\r\n",
      "dat__loc_N_10_Jx_1.00_Jz_1.00_gamma_10.00_it_18_S.txt\r\n",
      "dat__loc_N_10_Jx_1.00_Jz_1.00_gamma_10.00_it_18_Sz.txt\r\n",
      "dat__loc_N_10_Jx_1.00_Jz_1.00_gamma_10.00_it_18_maxdim.txt\r\n",
      "dat__loc_N_10_Jx_1.00_Jz_1.00_gamma_10.00_it_19_S.txt\r\n",
      "dat__loc_N_10_Jx_1.00_Jz_1.00_gamma_10.00_it_19_Sz.txt\r\n",
      "dat__loc_N_10_Jx_1.00_Jz_1.00_gamma_10.00_it_19_maxdim.txt\r\n",
      "dat__loc_N_10_Jx_1.00_Jz_1.00_gamma_10.00_it_1_S.txt\r\n",
      "dat__loc_N_10_Jx_1.00_Jz_1.00_gamma_10.00_it_1_Sz.txt\r\n",
      "dat__loc_N_10_Jx_1.00_Jz_1.00_gamma_10.00_it_1_maxdim.txt\r\n",
      "dat__loc_N_10_Jx_1.00_Jz_1.00_gamma_10.00_it_20_S.txt\r\n",
      "dat__loc_N_10_Jx_1.00_Jz_1.00_gamma_10.00_it_20_Sz.txt\r\n",
      "dat__loc_N_10_Jx_1.00_Jz_1.00_gamma_10.00_it_20_maxdim.txt\r\n",
      "dat__loc_N_10_Jx_1.00_Jz_1.00_gamma_10.00_it_2_S.txt\r\n",
      "dat__loc_N_10_Jx_1.00_Jz_1.00_gamma_10.00_it_2_Sz.txt\r\n",
      "dat__loc_N_10_Jx_1.00_Jz_1.00_gamma_10.00_it_2_maxdim.txt\r\n",
      "dat__loc_N_10_Jx_1.00_Jz_1.00_gamma_10.00_it_3_S.txt\r\n",
      "dat__loc_N_10_Jx_1.00_Jz_1.00_gamma_10.00_it_3_Sz.txt\r\n",
      "dat__loc_N_10_Jx_1.00_Jz_1.00_gamma_10.00_it_3_maxdim.txt\r\n",
      "dat__loc_N_10_Jx_1.00_Jz_1.00_gamma_10.00_it_4_S.txt\r\n",
      "dat__loc_N_10_Jx_1.00_Jz_1.00_gamma_10.00_it_4_Sz.txt\r\n",
      "dat__loc_N_10_Jx_1.00_Jz_1.00_gamma_10.00_it_4_maxdim.txt\r\n",
      "dat__loc_N_10_Jx_1.00_Jz_1.00_gamma_10.00_it_5_S.txt\r\n",
      "dat__loc_N_10_Jx_1.00_Jz_1.00_gamma_10.00_it_5_Sz.txt\r\n",
      "dat__loc_N_10_Jx_1.00_Jz_1.00_gamma_10.00_it_5_maxdim.txt\r\n",
      "dat__loc_N_10_Jx_1.00_Jz_1.00_gamma_10.00_it_6_S.txt\r\n",
      "dat__loc_N_10_Jx_1.00_Jz_1.00_gamma_10.00_it_6_Sz.txt\r\n",
      "dat__loc_N_10_Jx_1.00_Jz_1.00_gamma_10.00_it_6_maxdim.txt\r\n",
      "dat__loc_N_10_Jx_1.00_Jz_1.00_gamma_10.00_it_7_S.txt\r\n",
      "dat__loc_N_10_Jx_1.00_Jz_1.00_gamma_10.00_it_7_Sz.txt\r\n",
      "dat__loc_N_10_Jx_1.00_Jz_1.00_gamma_10.00_it_7_maxdim.txt\r\n",
      "dat__loc_N_10_Jx_1.00_Jz_1.00_gamma_10.00_it_8_S.txt\r\n",
      "dat__loc_N_10_Jx_1.00_Jz_1.00_gamma_10.00_it_8_Sz.txt\r\n",
      "dat__loc_N_10_Jx_1.00_Jz_1.00_gamma_10.00_it_8_maxdim.txt\r\n",
      "dat__loc_N_10_Jx_1.00_Jz_1.00_gamma_10.00_it_9_S.txt\r\n",
      "dat__loc_N_10_Jx_1.00_Jz_1.00_gamma_10.00_it_9_Sz.txt\r\n",
      "dat__loc_N_10_Jx_1.00_Jz_1.00_gamma_10.00_it_9_maxdim.txt\r\n",
      "dat__opt_N_10_Jx_1.00_Jz_1.00_gamma_10.00_it_10_S.txt\r\n",
      "dat__opt_N_10_Jx_1.00_Jz_1.00_gamma_10.00_it_10_Sz.txt\r\n",
      "dat__opt_N_10_Jx_1.00_Jz_1.00_gamma_10.00_it_10_maxdim.txt\r\n",
      "dat__opt_N_10_Jx_1.00_Jz_1.00_gamma_10.00_it_11_S.txt\r\n",
      "dat__opt_N_10_Jx_1.00_Jz_1.00_gamma_10.00_it_11_Sz.txt\r\n",
      "dat__opt_N_10_Jx_1.00_Jz_1.00_gamma_10.00_it_11_maxdim.txt\r\n",
      "dat__opt_N_10_Jx_1.00_Jz_1.00_gamma_10.00_it_12_S.txt\r\n",
      "dat__opt_N_10_Jx_1.00_Jz_1.00_gamma_10.00_it_12_Sz.txt\r\n",
      "dat__opt_N_10_Jx_1.00_Jz_1.00_gamma_10.00_it_12_maxdim.txt\r\n",
      "dat__opt_N_10_Jx_1.00_Jz_1.00_gamma_10.00_it_13_S.txt\r\n",
      "dat__opt_N_10_Jx_1.00_Jz_1.00_gamma_10.00_it_13_Sz.txt\r\n",
      "dat__opt_N_10_Jx_1.00_Jz_1.00_gamma_10.00_it_13_maxdim.txt\r\n",
      "dat__opt_N_10_Jx_1.00_Jz_1.00_gamma_10.00_it_14_S.txt\r\n",
      "dat__opt_N_10_Jx_1.00_Jz_1.00_gamma_10.00_it_14_Sz.txt\r\n",
      "dat__opt_N_10_Jx_1.00_Jz_1.00_gamma_10.00_it_14_maxdim.txt\r\n",
      "dat__opt_N_10_Jx_1.00_Jz_1.00_gamma_10.00_it_15_S.txt\r\n",
      "dat__opt_N_10_Jx_1.00_Jz_1.00_gamma_10.00_it_15_Sz.txt\r\n",
      "dat__opt_N_10_Jx_1.00_Jz_1.00_gamma_10.00_it_15_maxdim.txt\r\n",
      "dat__opt_N_10_Jx_1.00_Jz_1.00_gamma_10.00_it_16_S.txt\r\n",
      "dat__opt_N_10_Jx_1.00_Jz_1.00_gamma_10.00_it_16_Sz.txt\r\n",
      "dat__opt_N_10_Jx_1.00_Jz_1.00_gamma_10.00_it_16_maxdim.txt\r\n",
      "dat__opt_N_10_Jx_1.00_Jz_1.00_gamma_10.00_it_17_S.txt\r\n",
      "dat__opt_N_10_Jx_1.00_Jz_1.00_gamma_10.00_it_17_Sz.txt\r\n",
      "dat__opt_N_10_Jx_1.00_Jz_1.00_gamma_10.00_it_17_maxdim.txt\r\n",
      "dat__opt_N_10_Jx_1.00_Jz_1.00_gamma_10.00_it_18_S.txt\r\n",
      "dat__opt_N_10_Jx_1.00_Jz_1.00_gamma_10.00_it_18_Sz.txt\r\n",
      "dat__opt_N_10_Jx_1.00_Jz_1.00_gamma_10.00_it_18_maxdim.txt\r\n",
      "dat__opt_N_10_Jx_1.00_Jz_1.00_gamma_10.00_it_19_S.txt\r\n",
      "dat__opt_N_10_Jx_1.00_Jz_1.00_gamma_10.00_it_19_Sz.txt\r\n",
      "dat__opt_N_10_Jx_1.00_Jz_1.00_gamma_10.00_it_19_maxdim.txt\r\n",
      "dat__opt_N_10_Jx_1.00_Jz_1.00_gamma_10.00_it_1_S.txt\r\n",
      "dat__opt_N_10_Jx_1.00_Jz_1.00_gamma_10.00_it_1_Sz.txt\r\n",
      "dat__opt_N_10_Jx_1.00_Jz_1.00_gamma_10.00_it_1_maxdim.txt\r\n",
      "dat__opt_N_10_Jx_1.00_Jz_1.00_gamma_10.00_it_20_S.txt\r\n",
      "dat__opt_N_10_Jx_1.00_Jz_1.00_gamma_10.00_it_20_Sz.txt\r\n",
      "dat__opt_N_10_Jx_1.00_Jz_1.00_gamma_10.00_it_20_maxdim.txt\r\n",
      "dat__opt_N_10_Jx_1.00_Jz_1.00_gamma_10.00_it_2_S.txt\r\n",
      "dat__opt_N_10_Jx_1.00_Jz_1.00_gamma_10.00_it_2_Sz.txt\r\n",
      "dat__opt_N_10_Jx_1.00_Jz_1.00_gamma_10.00_it_2_maxdim.txt\r\n",
      "dat__opt_N_10_Jx_1.00_Jz_1.00_gamma_10.00_it_3_S.txt\r\n",
      "dat__opt_N_10_Jx_1.00_Jz_1.00_gamma_10.00_it_3_Sz.txt\r\n",
      "dat__opt_N_10_Jx_1.00_Jz_1.00_gamma_10.00_it_3_maxdim.txt\r\n",
      "dat__opt_N_10_Jx_1.00_Jz_1.00_gamma_10.00_it_4_S.txt\r\n",
      "dat__opt_N_10_Jx_1.00_Jz_1.00_gamma_10.00_it_4_Sz.txt\r\n",
      "dat__opt_N_10_Jx_1.00_Jz_1.00_gamma_10.00_it_4_maxdim.txt\r\n",
      "dat__opt_N_10_Jx_1.00_Jz_1.00_gamma_10.00_it_5_S.txt\r\n",
      "dat__opt_N_10_Jx_1.00_Jz_1.00_gamma_10.00_it_5_Sz.txt\r\n",
      "dat__opt_N_10_Jx_1.00_Jz_1.00_gamma_10.00_it_5_maxdim.txt\r\n",
      "dat__opt_N_10_Jx_1.00_Jz_1.00_gamma_10.00_it_6_S.txt\r\n",
      "dat__opt_N_10_Jx_1.00_Jz_1.00_gamma_10.00_it_6_Sz.txt\r\n",
      "dat__opt_N_10_Jx_1.00_Jz_1.00_gamma_10.00_it_6_maxdim.txt\r\n",
      "dat__opt_N_10_Jx_1.00_Jz_1.00_gamma_10.00_it_7_S.txt\r\n",
      "dat__opt_N_10_Jx_1.00_Jz_1.00_gamma_10.00_it_7_Sz.txt\r\n",
      "dat__opt_N_10_Jx_1.00_Jz_1.00_gamma_10.00_it_7_maxdim.txt\r\n",
      "dat__opt_N_10_Jx_1.00_Jz_1.00_gamma_10.00_it_8_S.txt\r\n",
      "dat__opt_N_10_Jx_1.00_Jz_1.00_gamma_10.00_it_8_Sz.txt\r\n",
      "dat__opt_N_10_Jx_1.00_Jz_1.00_gamma_10.00_it_8_maxdim.txt\r\n",
      "dat__opt_N_10_Jx_1.00_Jz_1.00_gamma_10.00_it_9_S.txt\r\n",
      "dat__opt_N_10_Jx_1.00_Jz_1.00_gamma_10.00_it_9_Sz.txt\r\n",
      "dat__opt_N_10_Jx_1.00_Jz_1.00_gamma_10.00_it_9_maxdim.txt\r\n"
     ]
    }
   ],
   "source": [
    "!ls $folder"
   ]
  },
  {
   "cell_type": "code",
   "execution_count": 3,
   "id": "fa29788e",
   "metadata": {},
   "outputs": [],
   "source": [
    "# list of all parameter generated\n",
    "\n",
    "N = 10\n",
    "Jz = 1.\n",
    "Jx = 1.\n",
    "gamma = 10.\n",
    "v_it = list(range(1,20))\n",
    "\n",
    "n_sample = 256\n",
    "\n",
    "pre = \"dat__\""
   ]
  },
  {
   "cell_type": "code",
   "execution_count": 4,
   "id": "9a633c34",
   "metadata": {},
   "outputs": [],
   "source": [
    "# collect all entropies, store in np array\n",
    "\n",
    "# entropies\n",
    "dat_S_opt = np.zeros((len(v_it), N+1, n_sample ))\n",
    "dat_S_loc = np.zeros((len(v_it), N+1, n_sample ))\n",
    "\n",
    "# <Sz> \n",
    "dat_Sz_opt = np.zeros((len(v_it), N, n_sample ))\n",
    "dat_Sz_loc = np.zeros((len(v_it), N, n_sample ))\n",
    "\n",
    "# can be structured better, with dict to collect data or so\n",
    "for it in v_it:\n",
    "    # get S\n",
    "    suffix = \"_N_{}_Jx_{:.2f}_Jz_{:.2f}_gamma_{:.2f}_it_{}_S\".format(N,Jx,Jz,gamma,it)\n",
    "    fn_opt = folder + pre + \"opt\" + suffix + \".txt\"\n",
    "    fn_loc = folder + pre + \"loc\" + suffix + \".txt\"\n",
    "    try:\n",
    "        data_opt = np.loadtxt(fn_opt)\n",
    "        data_loc = np.loadtxt(fn_loc)\n",
    "        dat_S_opt[it-1,:,:] = data_opt.T\n",
    "        dat_S_loc[it-1,:,:] = data_loc.T\n",
    "    except:\n",
    "        print(\"file \" + fn_opt + \" or \" + fn_loc + \" does not exist\")\n",
    "        \n",
    "    # get Sz\n",
    "    suffix = \"_N_{}_Jx_{:.2f}_Jz_{:.2f}_gamma_{:.2f}_it_{}_Sz\".format(N,Jx,Jz,gamma,it)\n",
    "    fn_opt = folder + pre + \"opt\" + suffix + \".txt\"\n",
    "    fn_loc = folder + pre + \"loc\" + suffix + \".txt\"\n",
    "    try:\n",
    "        data_opt = np.loadtxt(fn_opt)\n",
    "        data_loc = np.loadtxt(fn_loc)\n",
    "        dat_Sz_opt[it-1,:,:] = data_opt.T\n",
    "        dat_Sz_loc[it-1,:,:] = data_loc.T\n",
    "    except:\n",
    "        print(\"file \" + fn_opt + \" or \" + fn_loc + \" does not exist\")\n"
   ]
  },
  {
   "cell_type": "code",
   "execution_count": 7,
   "id": "e4301ccb",
   "metadata": {},
   "outputs": [
    {
     "data": {
      "text/plain": [
       "Text(0.5, 1.0, 'Entanglement profile, last time collected')"
      ]
     },
     "execution_count": 7,
     "metadata": {},
     "output_type": "execute_result"
    },
    {
     "data": {
      "image/png": "[encoded data removed]",
      "text/plain": [
       "<Figure size 432x288 with 1 Axes>"
      ]
     },
     "metadata": {
      "needs_background": "light"
     },
     "output_type": "display_data"
    }
   ],
   "source": [
    "it = -1 # time index to plot, average over all collected trajectories\n",
    "\n",
    "plt.plot(np.mean(dat_S_opt[it], axis=-1), label=\"optimal\")\n",
    "plt.plot(np.mean(dat_S_loc[it], axis=-1), label=\"local\")\n",
    "plt.legend()\n",
    "plt.title(\"Entanglement profile, last time collected\")"
   ]
  },
  {
   "cell_type": "code",
   "execution_count": 8,
   "id": "6766a508",
   "metadata": {},
   "outputs": [
    {
     "name": "stdout",
     "output_type": "stream",
     "text": [
      "The distribution seems skewed (for both optimal and local). Perhaps this is because Jz is antiferromagnetic now and incommensure with lattice)\n"
     ]
    },
    {
     "data": {
      "image/png": "[encoded data removed]",
      "text/plain": [
       "<Figure size 432x288 with 1 Axes>"
      ]
     },
     "metadata": {
      "needs_background": "light"
     },
     "output_type": "display_data"
    }
   ],
   "source": [
    "it = -1\n",
    "\n",
    "plt.plot(np.mean(dat_Sz_opt[it], axis=-1), label=\"optimal\")\n",
    "plt.plot(np.mean(dat_Sz_loc[it], axis=-1), label=\"local\")\n",
    "plt.legend()\n",
    "plt.title(\"<Sz>'s, last time collected (they must be the same)\")\n",
    "\n",
    "print(\"The distribution seems skewed (for both optimal and local). Perhaps this is because Jz is antiferromagnetic now and incommensure with lattice)\")"
   ]
  },
  {
   "cell_type": "code",
   "execution_count": null,
   "id": "b0a84ecb",
   "metadata": {},
   "outputs": [],
   "source": []
  }
 ],
 "metadata": {
  "kernelspec": {
   "display_name": "Python 3",
   "language": "python",
   "name": "python3"
  },
  "language_info": {
   "codemirror_mode": {
    "name": "ipython",
    "version": 3
   },
   "file_extension": ".py",
   "mimetype": "text/x-python",
   "name": "python",
   "nbconvert_exporter": "python",
   "pygments_lexer": "ipython3",
   "version": "3.8.5"
  }
 },
 "nbformat": 4,
 "nbformat_minor": 5
}
